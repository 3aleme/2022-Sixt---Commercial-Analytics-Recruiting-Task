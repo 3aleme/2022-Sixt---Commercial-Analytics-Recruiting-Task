{
 "cells": [
  {
   "cell_type": "code",
   "execution_count": 5,
   "metadata": {},
   "outputs": [],
   "source": [
    "import numpy as np\n",
    "import pandas as pd\n",
    "from pandas import DataFrame"
   ]
  },
  {
   "cell_type": "code",
   "execution_count": 29,
   "metadata": {},
   "outputs": [],
   "source": [
    "df = pd.read_csv(r\"2022 Sixt - Commercial Analytics Recruiting Task.csv\", header = 0, delimiter=';')"
   ]
  },
  {
   "cell_type": "code",
   "execution_count": 30,
   "metadata": {},
   "outputs": [
    {
     "data": {
      "text/html": [
       "<div>\n",
       "<style scoped>\n",
       "    .dataframe tbody tr th:only-of-type {\n",
       "        vertical-align: middle;\n",
       "    }\n",
       "\n",
       "    .dataframe tbody tr th {\n",
       "        vertical-align: top;\n",
       "    }\n",
       "\n",
       "    .dataframe thead th {\n",
       "        text-align: right;\n",
       "    }\n",
       "</style>\n",
       "<table border=\"1\" class=\"dataframe\">\n",
       "  <thead>\n",
       "    <tr style=\"text-align: right;\">\n",
       "      <th></th>\n",
       "      <th>Client</th>\n",
       "      <th>FirstAction</th>\n",
       "      <th>LastAction</th>\n",
       "      <th>Date</th>\n",
       "      <th>Time</th>\n",
       "      <th>UserID</th>\n",
       "      <th>UserAction</th>\n",
       "      <th>ArtNr</th>\n",
       "      <th>ArtName</th>\n",
       "      <th>Place</th>\n",
       "      <th>Price</th>\n",
       "      <th>ActionInfo1</th>\n",
       "      <th>CompareArtNr</th>\n",
       "      <th>ComparePlace</th>\n",
       "      <th>ShopType</th>\n",
       "    </tr>\n",
       "  </thead>\n",
       "  <tbody>\n",
       "    <tr>\n",
       "      <th>0</th>\n",
       "      <td>ws014855</td>\n",
       "      <td>14:44:59</td>\n",
       "      <td>14:45:15</td>\n",
       "      <td>16.09.2014</td>\n",
       "      <td>14:45:15</td>\n",
       "      <td>User94295555912ID99912263546</td>\n",
       "      <td>liftup</td>\n",
       "      <td>598886.0</td>\n",
       "      <td>Rolex GMT-Master II</td>\n",
       "      <td>2</td>\n",
       "      <td>9735.0</td>\n",
       "      <td>NaN</td>\n",
       "      <td>NaN</td>\n",
       "      <td>NaN</td>\n",
       "      <td>C</td>\n",
       "    </tr>\n",
       "    <tr>\n",
       "      <th>1</th>\n",
       "      <td>ws014855</td>\n",
       "      <td>17:20:48</td>\n",
       "      <td>17:20:59</td>\n",
       "      <td>25.09.2014</td>\n",
       "      <td>17:20:59</td>\n",
       "      <td>User91580650629ID43569660373</td>\n",
       "      <td>starttut_auto</td>\n",
       "      <td>574296.0</td>\n",
       "      <td>Maurice Lacroix Retrogrades</td>\n",
       "      <td>1</td>\n",
       "      <td>5985.0</td>\n",
       "      <td>NaN</td>\n",
       "      <td>NaN</td>\n",
       "      <td>NaN</td>\n",
       "      <td>C</td>\n",
       "    </tr>\n",
       "    <tr>\n",
       "      <th>2</th>\n",
       "      <td>ws014855</td>\n",
       "      <td>15:38:00</td>\n",
       "      <td>15:39:01</td>\n",
       "      <td>11.09.2014</td>\n",
       "      <td>15:38:13</td>\n",
       "      <td>User14958227612ID93909495044</td>\n",
       "      <td>starttut_auto</td>\n",
       "      <td>558355.0</td>\n",
       "      <td>Rol Die Sea-Dweller 4000</td>\n",
       "      <td>5</td>\n",
       "      <td>6435.0</td>\n",
       "      <td>NaN</td>\n",
       "      <td>NaN</td>\n",
       "      <td>NaN</td>\n",
       "      <td>C</td>\n",
       "    </tr>\n",
       "    <tr>\n",
       "      <th>3</th>\n",
       "      <td>ws014855</td>\n",
       "      <td>16:19:01</td>\n",
       "      <td>16:19:01</td>\n",
       "      <td>22.09.2014</td>\n",
       "      <td>16:19:01</td>\n",
       "      <td>User46918181749ID43074807525</td>\n",
       "      <td>liftup</td>\n",
       "      <td>596579.0</td>\n",
       "      <td>Breitling Chronomat B13350</td>\n",
       "      <td>13</td>\n",
       "      <td>5985.0</td>\n",
       "      <td>NaN</td>\n",
       "      <td>NaN</td>\n",
       "      <td>NaN</td>\n",
       "      <td>C</td>\n",
       "    </tr>\n",
       "    <tr>\n",
       "      <th>4</th>\n",
       "      <td>ws014855</td>\n",
       "      <td>13:07:30</td>\n",
       "      <td>13:07:56</td>\n",
       "      <td>29.09.2014</td>\n",
       "      <td>13:07:52</td>\n",
       "      <td>User18960750848ID74810983101</td>\n",
       "      <td>liftup</td>\n",
       "      <td>572848.0</td>\n",
       "      <td>Rolex Die Dweller 3500 CH</td>\n",
       "      <td>7</td>\n",
       "      <td>5235.0</td>\n",
       "      <td>NaN</td>\n",
       "      <td>NaN</td>\n",
       "      <td>NaN</td>\n",
       "      <td>C</td>\n",
       "    </tr>\n",
       "  </tbody>\n",
       "</table>\n",
       "</div>"
      ],
      "text/plain": [
       "     Client FirstAction LastAction        Date      Time  \\\n",
       "0  ws014855    14:44:59   14:45:15  16.09.2014  14:45:15   \n",
       "1  ws014855    17:20:48   17:20:59  25.09.2014  17:20:59   \n",
       "2  ws014855    15:38:00   15:39:01  11.09.2014  15:38:13   \n",
       "3  ws014855    16:19:01   16:19:01  22.09.2014  16:19:01   \n",
       "4  ws014855    13:07:30   13:07:56  29.09.2014  13:07:52   \n",
       "\n",
       "                         UserID     UserAction     ArtNr  \\\n",
       "0  User94295555912ID99912263546         liftup  598886.0   \n",
       "1  User91580650629ID43569660373  starttut_auto  574296.0   \n",
       "2  User14958227612ID93909495044  starttut_auto  558355.0   \n",
       "3  User46918181749ID43074807525         liftup  596579.0   \n",
       "4  User18960750848ID74810983101         liftup  572848.0   \n",
       "\n",
       "                       ArtName  Place   Price ActionInfo1  CompareArtNr  \\\n",
       "0          Rolex GMT-Master II      2  9735.0         NaN           NaN   \n",
       "1  Maurice Lacroix Retrogrades      1  5985.0         NaN           NaN   \n",
       "2     Rol Die Sea-Dweller 4000      5  6435.0         NaN           NaN   \n",
       "3   Breitling Chronomat B13350     13  5985.0         NaN           NaN   \n",
       "4    Rolex Die Dweller 3500 CH      7  5235.0         NaN           NaN   \n",
       "\n",
       "   ComparePlace ShopType  \n",
       "0           NaN        C  \n",
       "1           NaN        C  \n",
       "2           NaN        C  \n",
       "3           NaN        C  \n",
       "4           NaN        C  "
      ]
     },
     "execution_count": 30,
     "metadata": {},
     "output_type": "execute_result"
    }
   ],
   "source": [
    "df.head()"
   ]
  },
  {
   "cell_type": "code",
   "execution_count": 31,
   "metadata": {},
   "outputs": [
    {
     "data": {
      "text/plain": [
       "Client           object\n",
       "FirstAction      object\n",
       "LastAction       object\n",
       "Date             object\n",
       "Time             object\n",
       "UserID           object\n",
       "UserAction       object\n",
       "ArtNr           float64\n",
       "ArtName          object\n",
       "Place             int64\n",
       "Price           float64\n",
       "ActionInfo1      object\n",
       "CompareArtNr    float64\n",
       "ComparePlace    float64\n",
       "ShopType         object\n",
       "dtype: object"
      ]
     },
     "execution_count": 31,
     "metadata": {},
     "output_type": "execute_result"
    }
   ],
   "source": [
    "df.dtypes"
   ]
  },
  {
   "cell_type": "code",
   "execution_count": null,
   "metadata": {},
   "outputs": [],
   "source": [
    "    'FirstAction': time,\n",
    "    'LastAction': time,\n",
    "    'Date': date,\n",
    "    'Time': time,"
   ]
  },
  {
   "cell_type": "code",
   "execution_count": 36,
   "metadata": {},
   "outputs": [],
   "source": [
    "convert_dict = {\n",
    "    'Client': str, \n",
    "    'UserID': str,\n",
    "    'UserAction': str,\n",
    "    'ArtNr': int,\n",
    "    'ArtName': str,\n",
    "    'Place': int,\n",
    "    'Price': float,\n",
    "    'ActionInfo1': int,\n",
    "    'CompareArtNr': int,\n",
    "    'ComparePlace': int,\n",
    "    'ShopType': str,\n",
    "}"
   ]
  },
  {
   "cell_type": "code",
   "execution_count": 37,
   "metadata": {},
   "outputs": [
    {
     "ename": "IntCastingNaNError",
     "evalue": "Cannot convert non-finite values (NA or inf) to integer",
     "output_type": "error",
     "traceback": [
      "\u001b[1;31m---------------------------------------------------------------------------\u001b[0m",
      "\u001b[1;31mIntCastingNaNError\u001b[0m                        Traceback (most recent call last)",
      "Cell \u001b[1;32mIn[37], line 1\u001b[0m\n\u001b[1;32m----> 1\u001b[0m df1 \u001b[39m=\u001b[39m df\u001b[39m.\u001b[39;49mastype(convert_dict)\n\u001b[0;32m      2\u001b[0m df1\n",
      "File \u001b[1;32mc:\\Users\\hassa\\Downloads\\Compressed\\2022 Sixt - Commercial Analytics Recruiting Task\\.venv\\lib\\site-packages\\pandas\\core\\generic.py:6226\u001b[0m, in \u001b[0;36mNDFrame.astype\u001b[1;34m(self, dtype, copy, errors)\u001b[0m\n\u001b[0;32m   6224\u001b[0m             res_col \u001b[39m=\u001b[39m col\u001b[39m.\u001b[39mcopy() \u001b[39mif\u001b[39;00m copy \u001b[39melse\u001b[39;00m col\n\u001b[0;32m   6225\u001b[0m         \u001b[39melse\u001b[39;00m:\n\u001b[1;32m-> 6226\u001b[0m             res_col \u001b[39m=\u001b[39m col\u001b[39m.\u001b[39;49mastype(dtype\u001b[39m=\u001b[39;49mcdt, copy\u001b[39m=\u001b[39;49mcopy, errors\u001b[39m=\u001b[39;49merrors)\n\u001b[0;32m   6227\u001b[0m         results\u001b[39m.\u001b[39mappend(res_col)\n\u001b[0;32m   6229\u001b[0m \u001b[39melif\u001b[39;00m is_extension_array_dtype(dtype) \u001b[39mand\u001b[39;00m \u001b[39mself\u001b[39m\u001b[39m.\u001b[39mndim \u001b[39m>\u001b[39m \u001b[39m1\u001b[39m:\n\u001b[0;32m   6230\u001b[0m     \u001b[39m# GH 18099/22869: columnwise conversion to extension dtype\u001b[39;00m\n\u001b[0;32m   6231\u001b[0m     \u001b[39m# GH 24704: use iloc to handle duplicate column names\u001b[39;00m\n\u001b[0;32m   6232\u001b[0m     \u001b[39m# TODO(EA2D): special case not needed with 2D EAs\u001b[39;00m\n",
      "File \u001b[1;32mc:\\Users\\hassa\\Downloads\\Compressed\\2022 Sixt - Commercial Analytics Recruiting Task\\.venv\\lib\\site-packages\\pandas\\core\\generic.py:6240\u001b[0m, in \u001b[0;36mNDFrame.astype\u001b[1;34m(self, dtype, copy, errors)\u001b[0m\n\u001b[0;32m   6233\u001b[0m     results \u001b[39m=\u001b[39m [\n\u001b[0;32m   6234\u001b[0m         \u001b[39mself\u001b[39m\u001b[39m.\u001b[39miloc[:, i]\u001b[39m.\u001b[39mastype(dtype, copy\u001b[39m=\u001b[39mcopy)\n\u001b[0;32m   6235\u001b[0m         \u001b[39mfor\u001b[39;00m i \u001b[39min\u001b[39;00m \u001b[39mrange\u001b[39m(\u001b[39mlen\u001b[39m(\u001b[39mself\u001b[39m\u001b[39m.\u001b[39mcolumns))\n\u001b[0;32m   6236\u001b[0m     ]\n\u001b[0;32m   6238\u001b[0m \u001b[39melse\u001b[39;00m:\n\u001b[0;32m   6239\u001b[0m     \u001b[39m# else, only a single dtype is given\u001b[39;00m\n\u001b[1;32m-> 6240\u001b[0m     new_data \u001b[39m=\u001b[39m \u001b[39mself\u001b[39;49m\u001b[39m.\u001b[39;49m_mgr\u001b[39m.\u001b[39;49mastype(dtype\u001b[39m=\u001b[39;49mdtype, copy\u001b[39m=\u001b[39;49mcopy, errors\u001b[39m=\u001b[39;49merrors)\n\u001b[0;32m   6241\u001b[0m     \u001b[39mreturn\u001b[39;00m \u001b[39mself\u001b[39m\u001b[39m.\u001b[39m_constructor(new_data)\u001b[39m.\u001b[39m__finalize__(\u001b[39mself\u001b[39m, method\u001b[39m=\u001b[39m\u001b[39m\"\u001b[39m\u001b[39mastype\u001b[39m\u001b[39m\"\u001b[39m)\n\u001b[0;32m   6243\u001b[0m \u001b[39m# GH 33113: handle empty frame or series\u001b[39;00m\n",
      "File \u001b[1;32mc:\\Users\\hassa\\Downloads\\Compressed\\2022 Sixt - Commercial Analytics Recruiting Task\\.venv\\lib\\site-packages\\pandas\\core\\internals\\managers.py:450\u001b[0m, in \u001b[0;36mBaseBlockManager.astype\u001b[1;34m(self, dtype, copy, errors)\u001b[0m\n\u001b[0;32m    449\u001b[0m \u001b[39mdef\u001b[39;00m \u001b[39mastype\u001b[39m(\u001b[39mself\u001b[39m: T, dtype, copy: \u001b[39mbool\u001b[39m \u001b[39m=\u001b[39m \u001b[39mFalse\u001b[39;00m, errors: \u001b[39mstr\u001b[39m \u001b[39m=\u001b[39m \u001b[39m\"\u001b[39m\u001b[39mraise\u001b[39m\u001b[39m\"\u001b[39m) \u001b[39m-\u001b[39m\u001b[39m>\u001b[39m T:\n\u001b[1;32m--> 450\u001b[0m     \u001b[39mreturn\u001b[39;00m \u001b[39mself\u001b[39;49m\u001b[39m.\u001b[39;49mapply(\u001b[39m\"\u001b[39;49m\u001b[39mastype\u001b[39;49m\u001b[39m\"\u001b[39;49m, dtype\u001b[39m=\u001b[39;49mdtype, copy\u001b[39m=\u001b[39;49mcopy, errors\u001b[39m=\u001b[39;49merrors)\n",
      "File \u001b[1;32mc:\\Users\\hassa\\Downloads\\Compressed\\2022 Sixt - Commercial Analytics Recruiting Task\\.venv\\lib\\site-packages\\pandas\\core\\internals\\managers.py:352\u001b[0m, in \u001b[0;36mBaseBlockManager.apply\u001b[1;34m(self, f, align_keys, ignore_failures, **kwargs)\u001b[0m\n\u001b[0;32m    350\u001b[0m         applied \u001b[39m=\u001b[39m b\u001b[39m.\u001b[39mapply(f, \u001b[39m*\u001b[39m\u001b[39m*\u001b[39mkwargs)\n\u001b[0;32m    351\u001b[0m     \u001b[39melse\u001b[39;00m:\n\u001b[1;32m--> 352\u001b[0m         applied \u001b[39m=\u001b[39m \u001b[39mgetattr\u001b[39m(b, f)(\u001b[39m*\u001b[39m\u001b[39m*\u001b[39mkwargs)\n\u001b[0;32m    353\u001b[0m \u001b[39mexcept\u001b[39;00m (\u001b[39mTypeError\u001b[39;00m, \u001b[39mNotImplementedError\u001b[39;00m):\n\u001b[0;32m    354\u001b[0m     \u001b[39mif\u001b[39;00m \u001b[39mnot\u001b[39;00m ignore_failures:\n",
      "File \u001b[1;32mc:\\Users\\hassa\\Downloads\\Compressed\\2022 Sixt - Commercial Analytics Recruiting Task\\.venv\\lib\\site-packages\\pandas\\core\\internals\\blocks.py:526\u001b[0m, in \u001b[0;36mBlock.astype\u001b[1;34m(self, dtype, copy, errors)\u001b[0m\n\u001b[0;32m    508\u001b[0m \u001b[39m\u001b[39m\u001b[39m\"\"\"\u001b[39;00m\n\u001b[0;32m    509\u001b[0m \u001b[39mCoerce to the new dtype.\u001b[39;00m\n\u001b[0;32m    510\u001b[0m \n\u001b[1;32m   (...)\u001b[0m\n\u001b[0;32m    522\u001b[0m \u001b[39mBlock\u001b[39;00m\n\u001b[0;32m    523\u001b[0m \u001b[39m\"\"\"\u001b[39;00m\n\u001b[0;32m    524\u001b[0m values \u001b[39m=\u001b[39m \u001b[39mself\u001b[39m\u001b[39m.\u001b[39mvalues\n\u001b[1;32m--> 526\u001b[0m new_values \u001b[39m=\u001b[39m astype_array_safe(values, dtype, copy\u001b[39m=\u001b[39;49mcopy, errors\u001b[39m=\u001b[39;49merrors)\n\u001b[0;32m    528\u001b[0m new_values \u001b[39m=\u001b[39m maybe_coerce_values(new_values)\n\u001b[0;32m    529\u001b[0m newb \u001b[39m=\u001b[39m \u001b[39mself\u001b[39m\u001b[39m.\u001b[39mmake_block(new_values)\n",
      "File \u001b[1;32mc:\\Users\\hassa\\Downloads\\Compressed\\2022 Sixt - Commercial Analytics Recruiting Task\\.venv\\lib\\site-packages\\pandas\\core\\dtypes\\astype.py:299\u001b[0m, in \u001b[0;36mastype_array_safe\u001b[1;34m(values, dtype, copy, errors)\u001b[0m\n\u001b[0;32m    296\u001b[0m     \u001b[39mreturn\u001b[39;00m values\u001b[39m.\u001b[39mcopy()\n\u001b[0;32m    298\u001b[0m \u001b[39mtry\u001b[39;00m:\n\u001b[1;32m--> 299\u001b[0m     new_values \u001b[39m=\u001b[39m astype_array(values, dtype, copy\u001b[39m=\u001b[39;49mcopy)\n\u001b[0;32m    300\u001b[0m \u001b[39mexcept\u001b[39;00m (\u001b[39mValueError\u001b[39;00m, \u001b[39mTypeError\u001b[39;00m):\n\u001b[0;32m    301\u001b[0m     \u001b[39m# e.g. astype_nansafe can fail on object-dtype of strings\u001b[39;00m\n\u001b[0;32m    302\u001b[0m     \u001b[39m#  trying to convert to float\u001b[39;00m\n\u001b[0;32m    303\u001b[0m     \u001b[39mif\u001b[39;00m errors \u001b[39m==\u001b[39m \u001b[39m\"\u001b[39m\u001b[39mignore\u001b[39m\u001b[39m\"\u001b[39m:\n",
      "File \u001b[1;32mc:\\Users\\hassa\\Downloads\\Compressed\\2022 Sixt - Commercial Analytics Recruiting Task\\.venv\\lib\\site-packages\\pandas\\core\\dtypes\\astype.py:230\u001b[0m, in \u001b[0;36mastype_array\u001b[1;34m(values, dtype, copy)\u001b[0m\n\u001b[0;32m    227\u001b[0m     values \u001b[39m=\u001b[39m values\u001b[39m.\u001b[39mastype(dtype, copy\u001b[39m=\u001b[39mcopy)\n\u001b[0;32m    229\u001b[0m \u001b[39melse\u001b[39;00m:\n\u001b[1;32m--> 230\u001b[0m     values \u001b[39m=\u001b[39m astype_nansafe(values, dtype, copy\u001b[39m=\u001b[39;49mcopy)\n\u001b[0;32m    232\u001b[0m \u001b[39m# in pandas we don't store numpy str dtypes, so convert to object\u001b[39;00m\n\u001b[0;32m    233\u001b[0m \u001b[39mif\u001b[39;00m \u001b[39misinstance\u001b[39m(dtype, np\u001b[39m.\u001b[39mdtype) \u001b[39mand\u001b[39;00m \u001b[39missubclass\u001b[39m(values\u001b[39m.\u001b[39mdtype\u001b[39m.\u001b[39mtype, \u001b[39mstr\u001b[39m):\n",
      "File \u001b[1;32mc:\\Users\\hassa\\Downloads\\Compressed\\2022 Sixt - Commercial Analytics Recruiting Task\\.venv\\lib\\site-packages\\pandas\\core\\dtypes\\astype.py:140\u001b[0m, in \u001b[0;36mastype_nansafe\u001b[1;34m(arr, dtype, copy, skipna)\u001b[0m\n\u001b[0;32m    137\u001b[0m     \u001b[39mraise\u001b[39;00m \u001b[39mTypeError\u001b[39;00m(\u001b[39mf\u001b[39m\u001b[39m\"\u001b[39m\u001b[39mcannot astype a timedelta from [\u001b[39m\u001b[39m{\u001b[39;00marr\u001b[39m.\u001b[39mdtype\u001b[39m}\u001b[39;00m\u001b[39m] to [\u001b[39m\u001b[39m{\u001b[39;00mdtype\u001b[39m}\u001b[39;00m\u001b[39m]\u001b[39m\u001b[39m\"\u001b[39m)\n\u001b[0;32m    139\u001b[0m \u001b[39melif\u001b[39;00m np\u001b[39m.\u001b[39missubdtype(arr\u001b[39m.\u001b[39mdtype, np\u001b[39m.\u001b[39mfloating) \u001b[39mand\u001b[39;00m is_integer_dtype(dtype):\n\u001b[1;32m--> 140\u001b[0m     \u001b[39mreturn\u001b[39;00m _astype_float_to_int_nansafe(arr, dtype, copy)\n\u001b[0;32m    142\u001b[0m \u001b[39melif\u001b[39;00m is_object_dtype(arr\u001b[39m.\u001b[39mdtype):\n\u001b[0;32m    143\u001b[0m \n\u001b[0;32m    144\u001b[0m     \u001b[39m# if we have a datetime/timedelta array of objects\u001b[39;00m\n\u001b[0;32m    145\u001b[0m     \u001b[39m# then coerce to a proper dtype and recall astype_nansafe\u001b[39;00m\n\u001b[0;32m    147\u001b[0m     \u001b[39mif\u001b[39;00m is_datetime64_dtype(dtype):\n",
      "File \u001b[1;32mc:\\Users\\hassa\\Downloads\\Compressed\\2022 Sixt - Commercial Analytics Recruiting Task\\.venv\\lib\\site-packages\\pandas\\core\\dtypes\\astype.py:182\u001b[0m, in \u001b[0;36m_astype_float_to_int_nansafe\u001b[1;34m(values, dtype, copy)\u001b[0m\n\u001b[0;32m    178\u001b[0m \u001b[39m\u001b[39m\u001b[39m\"\"\"\u001b[39;00m\n\u001b[0;32m    179\u001b[0m \u001b[39mastype with a check preventing converting NaN to an meaningless integer value.\u001b[39;00m\n\u001b[0;32m    180\u001b[0m \u001b[39m\"\"\"\u001b[39;00m\n\u001b[0;32m    181\u001b[0m \u001b[39mif\u001b[39;00m \u001b[39mnot\u001b[39;00m np\u001b[39m.\u001b[39misfinite(values)\u001b[39m.\u001b[39mall():\n\u001b[1;32m--> 182\u001b[0m     \u001b[39mraise\u001b[39;00m IntCastingNaNError(\n\u001b[0;32m    183\u001b[0m         \u001b[39m\"\u001b[39m\u001b[39mCannot convert non-finite values (NA or inf) to integer\u001b[39m\u001b[39m\"\u001b[39m\n\u001b[0;32m    184\u001b[0m     )\n\u001b[0;32m    185\u001b[0m \u001b[39mif\u001b[39;00m dtype\u001b[39m.\u001b[39mkind \u001b[39m==\u001b[39m \u001b[39m\"\u001b[39m\u001b[39mu\u001b[39m\u001b[39m\"\u001b[39m:\n\u001b[0;32m    186\u001b[0m     \u001b[39m# GH#45151\u001b[39;00m\n\u001b[0;32m    187\u001b[0m     \u001b[39mif\u001b[39;00m \u001b[39mnot\u001b[39;00m (values \u001b[39m>\u001b[39m\u001b[39m=\u001b[39m \u001b[39m0\u001b[39m)\u001b[39m.\u001b[39mall():\n",
      "\u001b[1;31mIntCastingNaNError\u001b[0m: Cannot convert non-finite values (NA or inf) to integer"
     ]
    }
   ],
   "source": [
    "df1 = df.astype(convert_dict)\n",
    "df1"
   ]
  },
  {
   "cell_type": "code",
   "execution_count": 38,
   "metadata": {},
   "outputs": [
    {
     "data": {
      "text/html": [
       "<div>\n",
       "<style scoped>\n",
       "    .dataframe tbody tr th:only-of-type {\n",
       "        vertical-align: middle;\n",
       "    }\n",
       "\n",
       "    .dataframe tbody tr th {\n",
       "        vertical-align: top;\n",
       "    }\n",
       "\n",
       "    .dataframe thead th {\n",
       "        text-align: right;\n",
       "    }\n",
       "</style>\n",
       "<table border=\"1\" class=\"dataframe\">\n",
       "  <thead>\n",
       "    <tr style=\"text-align: right;\">\n",
       "      <th></th>\n",
       "      <th>ArtNr</th>\n",
       "      <th>Place</th>\n",
       "      <th>Price</th>\n",
       "      <th>CompareArtNr</th>\n",
       "      <th>ComparePlace</th>\n",
       "    </tr>\n",
       "  </thead>\n",
       "  <tbody>\n",
       "    <tr>\n",
       "      <th>count</th>\n",
       "      <td>182695.000000</td>\n",
       "      <td>182703.000000</td>\n",
       "      <td>182695.000000</td>\n",
       "      <td>10998.000000</td>\n",
       "      <td>10998.000000</td>\n",
       "    </tr>\n",
       "    <tr>\n",
       "      <th>mean</th>\n",
       "      <td>587725.350924</td>\n",
       "      <td>10.327953</td>\n",
       "      <td>6094.797750</td>\n",
       "      <td>588476.615839</td>\n",
       "      <td>10.929442</td>\n",
       "    </tr>\n",
       "    <tr>\n",
       "      <th>std</th>\n",
       "      <td>17578.757372</td>\n",
       "      <td>6.250410</td>\n",
       "      <td>3376.476174</td>\n",
       "      <td>17506.659479</td>\n",
       "      <td>6.072575</td>\n",
       "    </tr>\n",
       "    <tr>\n",
       "      <th>min</th>\n",
       "      <td>543700.000000</td>\n",
       "      <td>1.000000</td>\n",
       "      <td>1485.000000</td>\n",
       "      <td>543700.000000</td>\n",
       "      <td>1.000000</td>\n",
       "    </tr>\n",
       "    <tr>\n",
       "      <th>25%</th>\n",
       "      <td>574296.000000</td>\n",
       "      <td>5.000000</td>\n",
       "      <td>2535.000000</td>\n",
       "      <td>577349.000000</td>\n",
       "      <td>5.000000</td>\n",
       "    </tr>\n",
       "    <tr>\n",
       "      <th>50%</th>\n",
       "      <td>596579.000000</td>\n",
       "      <td>9.000000</td>\n",
       "      <td>5985.000000</td>\n",
       "      <td>598044.000000</td>\n",
       "      <td>11.000000</td>\n",
       "    </tr>\n",
       "    <tr>\n",
       "      <th>75%</th>\n",
       "      <td>602302.000000</td>\n",
       "      <td>16.000000</td>\n",
       "      <td>9735.000000</td>\n",
       "      <td>602302.000000</td>\n",
       "      <td>16.000000</td>\n",
       "    </tr>\n",
       "    <tr>\n",
       "      <th>max</th>\n",
       "      <td>605751.000000</td>\n",
       "      <td>27.000000</td>\n",
       "      <td>11235.000000</td>\n",
       "      <td>605751.000000</td>\n",
       "      <td>21.000000</td>\n",
       "    </tr>\n",
       "  </tbody>\n",
       "</table>\n",
       "</div>"
      ],
      "text/plain": [
       "               ArtNr          Place          Price   CompareArtNr  \\\n",
       "count  182695.000000  182703.000000  182695.000000   10998.000000   \n",
       "mean   587725.350924      10.327953    6094.797750  588476.615839   \n",
       "std     17578.757372       6.250410    3376.476174   17506.659479   \n",
       "min    543700.000000       1.000000    1485.000000  543700.000000   \n",
       "25%    574296.000000       5.000000    2535.000000  577349.000000   \n",
       "50%    596579.000000       9.000000    5985.000000  598044.000000   \n",
       "75%    602302.000000      16.000000    9735.000000  602302.000000   \n",
       "max    605751.000000      27.000000   11235.000000  605751.000000   \n",
       "\n",
       "       ComparePlace  \n",
       "count  10998.000000  \n",
       "mean      10.929442  \n",
       "std        6.072575  \n",
       "min        1.000000  \n",
       "25%        5.000000  \n",
       "50%       11.000000  \n",
       "75%       16.000000  \n",
       "max       21.000000  "
      ]
     },
     "execution_count": 38,
     "metadata": {},
     "output_type": "execute_result"
    }
   ],
   "source": [
    "df0.describe()"
   ]
  },
  {
   "cell_type": "code",
   "execution_count": 39,
   "metadata": {},
   "outputs": [
    {
     "data": {
      "text/html": [
       "<div>\n",
       "<style scoped>\n",
       "    .dataframe tbody tr th:only-of-type {\n",
       "        vertical-align: middle;\n",
       "    }\n",
       "\n",
       "    .dataframe tbody tr th {\n",
       "        vertical-align: top;\n",
       "    }\n",
       "\n",
       "    .dataframe thead th {\n",
       "        text-align: right;\n",
       "    }\n",
       "</style>\n",
       "<table border=\"1\" class=\"dataframe\">\n",
       "  <thead>\n",
       "    <tr style=\"text-align: right;\">\n",
       "      <th></th>\n",
       "      <th>Client</th>\n",
       "      <th>FirstAction</th>\n",
       "      <th>LastAction</th>\n",
       "      <th>Date</th>\n",
       "      <th>Time</th>\n",
       "      <th>UserID</th>\n",
       "      <th>UserAction</th>\n",
       "      <th>ArtNr</th>\n",
       "      <th>ArtName</th>\n",
       "      <th>Place</th>\n",
       "      <th>Price</th>\n",
       "      <th>ActionInfo1</th>\n",
       "      <th>CompareArtNr</th>\n",
       "      <th>ComparePlace</th>\n",
       "      <th>ShopType</th>\n",
       "    </tr>\n",
       "  </thead>\n",
       "  <tbody>\n",
       "  </tbody>\n",
       "</table>\n",
       "</div>"
      ],
      "text/plain": [
       "Empty DataFrame\n",
       "Columns: [Client, FirstAction, LastAction, Date, Time, UserID, UserAction, ArtNr, ArtName, Place, Price, ActionInfo1, CompareArtNr, ComparePlace, ShopType]\n",
       "Index: []"
      ]
     },
     "execution_count": 39,
     "metadata": {},
     "output_type": "execute_result"
    }
   ],
   "source": [
    "df[df.duplicated()]"
   ]
  },
  {
   "cell_type": "code",
   "execution_count": 40,
   "metadata": {},
   "outputs": [
    {
     "data": {
      "text/plain": [
       "Client               0\n",
       "FirstAction          0\n",
       "LastAction           0\n",
       "Date                 0\n",
       "Time                 0\n",
       "UserID               0\n",
       "UserAction           0\n",
       "ArtNr                8\n",
       "ArtName              8\n",
       "Place                0\n",
       "Price                8\n",
       "ActionInfo1     158127\n",
       "CompareArtNr    171705\n",
       "ComparePlace    171705\n",
       "ShopType          3575\n",
       "dtype: int64"
      ]
     },
     "execution_count": 40,
     "metadata": {},
     "output_type": "execute_result"
    }
   ],
   "source": [
    "df.isna().sum()"
   ]
  },
  {
   "cell_type": "code",
   "execution_count": 41,
   "metadata": {},
   "outputs": [
    {
     "data": {
      "text/plain": [
       "Client             89\n",
       "FirstAction     29501\n",
       "LastAction      29336\n",
       "Date               30\n",
       "Time            43063\n",
       "UserID          53331\n",
       "UserAction          8\n",
       "ArtNr              22\n",
       "ArtName            22\n",
       "Place              23\n",
       "Price              12\n",
       "ActionInfo1        43\n",
       "CompareArtNr       22\n",
       "ComparePlace       21\n",
       "ShopType            6\n",
       "dtype: int64"
      ]
     },
     "execution_count": 41,
     "metadata": {},
     "output_type": "execute_result"
    }
   ],
   "source": [
    "df.nunique()"
   ]
  },
  {
   "cell_type": "code",
   "execution_count": null,
   "metadata": {},
   "outputs": [],
   "source": [
    "df[]"
   ]
  },
  {
   "cell_type": "code",
   "execution_count": 44,
   "metadata": {},
   "outputs": [
    {
     "data": {
      "text/plain": [
       "array([598886., 574296., 558355., 596579., 572848., 577349., 585655.,\n",
       "       605750., 581108., 543700., 572847., 603064., 601509., 602302.,\n",
       "       605751., 603048., 572849., 593879., 605712., 598044., 605658.,\n",
       "       579413.,     nan])"
      ]
     },
     "execution_count": 44,
     "metadata": {},
     "output_type": "execute_result"
    }
   ],
   "source": [
    "df['ArtNr'].unique()"
   ]
  },
  {
   "cell_type": "code",
   "execution_count": 45,
   "metadata": {},
   "outputs": [
    {
     "data": {
      "text/plain": [
       "array([ 2,  1,  5, 13,  7, 17, 11,  8, 21,  3, 14,  4, 15, 12, 19, 16,  6,\n",
       "       18, 20,  9, 10, 27, 24], dtype=int64)"
      ]
     },
     "execution_count": 45,
     "metadata": {},
     "output_type": "execute_result"
    }
   ],
   "source": [
    "df['Place'].unique()"
   ]
  },
  {
   "cell_type": "code",
   "execution_count": 46,
   "metadata": {},
   "outputs": [
    {
     "data": {
      "text/plain": [
       "array([    nan, 558355., 543700., 598886., 577349., 581108., 602302.,\n",
       "       605658., 572848., 572847., 603048., 593879., 603064., 598044.,\n",
       "       605751., 605750., 579413., 601509., 585655., 596579., 572849.,\n",
       "       574296., 605712.])"
      ]
     },
     "execution_count": 46,
     "metadata": {},
     "output_type": "execute_result"
    }
   ],
   "source": [
    "df['CompareArtNr'].unique()"
   ]
  },
  {
   "cell_type": "code",
   "execution_count": null,
   "metadata": {},
   "outputs": [],
   "source": []
  }
 ],
 "metadata": {
  "kernelspec": {
   "display_name": ".venv",
   "language": "python",
   "name": "python3"
  },
  "language_info": {
   "codemirror_mode": {
    "name": "ipython",
    "version": 3
   },
   "file_extension": ".py",
   "mimetype": "text/x-python",
   "name": "python",
   "nbconvert_exporter": "python",
   "pygments_lexer": "ipython3",
   "version": "3.10.9"
  },
  "orig_nbformat": 4,
  "vscode": {
   "interpreter": {
    "hash": "ee24f7e148be7821c476ed42b9a74fd625676901a87ee9eb26dce3f3a81502e3"
   }
  }
 },
 "nbformat": 4,
 "nbformat_minor": 2
}
